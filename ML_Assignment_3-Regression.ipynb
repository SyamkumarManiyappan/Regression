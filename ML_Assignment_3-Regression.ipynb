{
 "cells": [
  {
   "cell_type": "code",
   "execution_count": 1,
   "id": "66dcd12d-01f2-400e-9a31-8b7e67a9a28b",
   "metadata": {},
   "outputs": [],
   "source": [
    "import warnings\n",
    "import sys\n",
    "if not sys.warnoptions:\n",
    "    warnings.simplefilter(\"ignore\")"
   ]
  },
  {
   "cell_type": "code",
   "execution_count": 2,
   "id": "02ee2473-181f-4d91-91b9-c4bde3ade9ec",
   "metadata": {},
   "outputs": [],
   "source": [
    "import numpy as np\n",
    "import pandas as pd\n",
    "import matplotlib.pyplot as plt\n",
    "from sklearn.datasets import fetch_california_housing\n",
    "from sklearn.model_selection import train_test_split\n",
    "from sklearn.preprocessing import StandardScaler\n",
    "from sklearn.linear_model import LinearRegression\n",
    "from sklearn.tree import DecisionTreeRegressor\n",
    "from sklearn.ensemble import RandomForestRegressor, GradientBoostingRegressor\n",
    "from sklearn.svm import SVR\n",
    "from sklearn.metrics import mean_squared_error, mean_absolute_error, r2_score"
   ]
  },
  {
   "cell_type": "code",
   "execution_count": 3,
   "id": "effca2d4-61d5-4c36-8808-a4f699f01a69",
   "metadata": {},
   "outputs": [
    {
     "name": "stdout",
     "output_type": "stream",
     "text": [
      "<class 'pandas.core.frame.DataFrame'>\n",
      "RangeIndex: 20640 entries, 0 to 20639\n",
      "Data columns (total 9 columns):\n",
      " #   Column      Non-Null Count  Dtype  \n",
      "---  ------      --------------  -----  \n",
      " 0   MedInc      20640 non-null  float64\n",
      " 1   HouseAge    20640 non-null  float64\n",
      " 2   AveRooms    20640 non-null  float64\n",
      " 3   AveBedrms   20640 non-null  float64\n",
      " 4   Population  20640 non-null  float64\n",
      " 5   AveOccup    20640 non-null  float64\n",
      " 6   Latitude    20640 non-null  float64\n",
      " 7   Longitude   20640 non-null  float64\n",
      " 8   Target      20640 non-null  float64\n",
      "dtypes: float64(9)\n",
      "memory usage: 1.4 MB\n"
     ]
    }
   ],
   "source": [
    "# Load the California Housing dataset\n",
    "# The fetch_california_housing() function from sklearn.datasets is used to load the dataset.\n",
    "\n",
    "california = fetch_california_housing()\n",
    "df = pd.DataFrame(california.data, columns=california.feature_names)\n",
    "df['Target'] = california.target\n",
    "\n",
    "df.info()"
   ]
  },
  {
   "cell_type": "code",
   "execution_count": 4,
   "id": "483fa5dd-0201-4782-8d68-36fd705cd02c",
   "metadata": {},
   "outputs": [
    {
     "name": "stdout",
     "output_type": "stream",
     "text": [
      "Missing values:\n",
      "MedInc        0\n",
      "HouseAge      0\n",
      "AveRooms      0\n",
      "AveBedrms     0\n",
      "Population    0\n",
      "AveOccup      0\n",
      "Latitude      0\n",
      "Longitude     0\n",
      "Target        0\n",
      "dtype: int64\n"
     ]
    }
   ],
   "source": [
    "# Check for missing values\n",
    "# checking for missing values using df.isnull().sum(),there are no missing values in this dataset\n",
    "\n",
    "print(\"Missing values:\")\n",
    "print(df.isnull().sum())"
   ]
  },
  {
   "cell_type": "code",
   "execution_count": 5,
   "id": "3063602f-257c-447b-a339-a448bb9f5f23",
   "metadata": {},
   "outputs": [],
   "source": [
    "# Feature Scaling\n",
    "# To bring all features to a uniform scale, Standardization is applied, which transforms the features to have a mean of 0 and a standard deviation of 1.\n",
    "# This is essential for machine learning algorithms like Linear Regression, Support Vector Regression (SVR), and Gradient Boosting.\n",
    "\n",
    "scaler = StandardScaler()\n",
    "scaled_features = scaler.fit_transform(df.drop(columns=['Target']))\n",
    "X = pd.DataFrame(scaled_features, columns=california.feature_names)\n",
    "y = df['Target']"
   ]
  },
  {
   "cell_type": "code",
   "execution_count": 6,
   "id": "fc365106-f63d-4536-8e39-f2a7ac73fecf",
   "metadata": {},
   "outputs": [],
   "source": [
    "# Splitting data into training and testing sets (80% train, 20% test)\n",
    "X_train, X_test, y_train, y_test = train_test_split(X, y, test_size=0.2, random_state=42)"
   ]
  },
  {
   "cell_type": "code",
   "execution_count": 7,
   "id": "16d5b47d-79e6-4681-a97e-928c25b4cd36",
   "metadata": {},
   "outputs": [],
   "source": [
    "# 1.Linear Regression models the relationship between input features and the target variable using a straight-line equation.\n",
    "# 2.Decision Tree: Tt creates a tree where each node represents a feature and branches split based on feature values to make predictions.\n",
    "# 3. Random Forest: It is an ensemble learning method that creates multiple Decision Trees and averages their outputs to improve stability and\n",
    "    #reduce overfitting.\n",
    "# 4.Gradient Boosting: It builds Decision Trees sequentially, where each tree learns from the previous tree’s errors using gradient descent optimization.\n",
    "# 5.Support Vector: SVR attempts to find a function that best fits the data while keeping most predictions within a margin of the true values.\n",
    "\n",
    "# Models\n",
    "models = {\n",
    "    \"Linear Regression\": LinearRegression(),\n",
    "    \"Decision Tree\": DecisionTreeRegressor(random_state=42),\n",
    "    \"Random Forest\": RandomForestRegressor(random_state=42, n_estimators=100),\n",
    "    \"Gradient Boosting\": GradientBoostingRegressor(random_state=42, n_estimators=100),\n",
    "    \"Support Vector Regressor\": SVR()\n",
    "}\n",
    "results = {}"
   ]
  },
  {
   "cell_type": "code",
   "execution_count": 8,
   "id": "8f93ec95-3a6c-4221-a70c-a1bbe887e7ee",
   "metadata": {},
   "outputs": [],
   "source": [
    "for name, model in models.items():\n",
    "    model.fit(X_train, y_train)\n",
    "    y_pred = model.predict(X_test)\n",
    "\n",
    "    mse = mean_squared_error(y_test, y_pred)\n",
    "    mae = mean_absolute_error(y_test, y_pred)\n",
    "    r2 = r2_score(y_test, y_pred)\n",
    "\n",
    "    results[name] = {\"MSE\": mse, \"MAE\": mae, \"R**\": r2}"
   ]
  },
  {
   "cell_type": "code",
   "execution_count": 9,
   "id": "dff1db4e-2a92-43fe-a1cd-3530791ad2f2",
   "metadata": {},
   "outputs": [],
   "source": [
    "results_df = pd.DataFrame(results).T"
   ]
  },
  {
   "cell_type": "code",
   "execution_count": 10,
   "id": "fd91fc93-0866-4706-aadf-3424a6483701",
   "metadata": {},
   "outputs": [
    {
     "name": "stdout",
     "output_type": "stream",
     "text": [
      "Model Performance Comparison:\n",
      "                               MSE       MAE       R**\n",
      "Linear Regression         0.555892  0.533200  0.575788\n",
      "Decision Tree             0.494272  0.453784  0.622811\n",
      "Random Forest             0.255498  0.327613  0.805024\n",
      "Gradient Boosting         0.293999  0.371650  0.775643\n",
      "Support Vector Regressor  0.355198  0.397763  0.728941\n"
     ]
    }
   ],
   "source": [
    "# Display the results\n",
    "print(\"Model Performance Comparison:\")\n",
    "print(results_df)"
   ]
  },
  {
   "cell_type": "code",
   "execution_count": 11,
   "id": "ca8eaea2-cfc4-4caa-a2d4-9791f757a725",
   "metadata": {},
   "outputs": [
    {
     "data": {
      "text/plain": [
       "<Figure size 1000x500 with 0 Axes>"
      ]
     },
     "metadata": {},
     "output_type": "display_data"
    },
    {
     "data": {
      "image/png": "[encoded data removed]",
      "text/plain": [
       "<Figure size 1000x500 with 1 Axes>"
      ]
     },
     "metadata": {},
     "output_type": "display_data"
    }
   ],
   "source": [
    "# Plot model performance\n",
    "plt.figure(figsize=(10, 5))\n",
    "results_df[['MSE', 'MAE']].plot(kind='bar', figsize=(10, 5), title='Model Performance Metrics')\n",
    "plt.ylabel(\"Error\")\n",
    "plt.xlabel(\"Regression Models\")\n",
    "plt.xticks(rotation=45)\n",
    "plt.legend()\n",
    "plt.show()"
   ]
  },
  {
   "cell_type": "code",
   "execution_count": 12,
   "id": "98ad8e19-e9ad-4882-a3fc-50a8665d0c58",
   "metadata": {},
   "outputs": [],
   "source": [
    "best_model = results_df.sort_values(by=[\"R**\", \"MSE\", \"MAE\"], ascending=[False, True, True]).index[0]\n",
    "worst_model = results_df.sort_values(by=[\"R**\", \"MSE\", \"MAE\"], ascending=[True, False, False]).index[0]"
   ]
  },
  {
   "cell_type": "code",
   "execution_count": 13,
   "id": "a39640e0-b726-4d1a-af35-53b69d9e0a75",
   "metadata": {},
   "outputs": [
    {
     "name": "stdout",
     "output_type": "stream",
     "text": [
      "Best Performing Model: Random Forest\n",
      "Worst Performing Model: Linear Regression\n"
     ]
    }
   ],
   "source": [
    "print(f\"Best Performing Model: {best_model}\")\n",
    "print(f\"Worst Performing Model: {worst_model}\")"
   ]
  },
  {
   "cell_type": "markdown",
   "id": "a0f65829-2a41-47ca-b142-2502c165934f",
   "metadata": {},
   "source": [
    "#Random Forest is the best performing model as it has the lowest error values (MSE & MAE) and the highest R Square score.\n",
    "\n",
    "#Linear Regression is the worst performing model as it has the highest error values (MSE & MAE) and the lowest R Square score."
   ]
  },
  {
   "cell_type": "code",
   "execution_count": null,
   "id": "91471702-a440-4448-860d-e880d39dda13",
   "metadata": {},
   "outputs": [],
   "source": []
  }
 ],
 "metadata": {
  "kernelspec": {
   "display_name": "Python 3 (ipykernel)",
   "language": "python",
   "name": "python3"
  },
  "language_info": {
   "codemirror_mode": {
    "name": "ipython",
    "version": 3
   },
   "file_extension": ".py",
   "mimetype": "text/x-python",
   "name": "python",
   "nbconvert_exporter": "python",
   "pygments_lexer": "ipython3",
   "version": "3.12.7"
  }
 },
 "nbformat": 4,
 "nbformat_minor": 5
}
